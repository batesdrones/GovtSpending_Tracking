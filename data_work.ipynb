{
 "cells": [
  {
   "cell_type": "code",
   "execution_count": 24,
   "metadata": {},
   "outputs": [],
   "source": [
    "import pandas as pd\n",
    "\n",
    "def dt_inplace(df):\n",
    "    \"\"\"Automatically detect and convert (in place!) each\n",
    "    dataframe column of datatype 'object' to a datetime just\n",
    "    when ALL of its non-NaN values can be successfully parsed\n",
    "    by pd.to_datetime().  Also returns a ref. to df for\n",
    "    convenient use in an expression.\n",
    "    \"\"\"\n",
    "    from pandas.errors import ParserError\n",
    "    for c in df.columns[df.dtypes=='object']: #don't cnvt num\n",
    "        try:\n",
    "            df[c]=pd.to_datetime(df[c])\n",
    "        except (ParserError,ValueError): #Can't cnvrt some\n",
    "            pass # ...so leave whole column as-is unconverted\n",
    "    return df\n",
    "def read_csv(*args, **kwargs):\n",
    "    \"\"\"Drop-in replacement for Pandas pd.read_csv. It invokes\n",
    "    pd.read_csv() (passing its arguments) and then auto-\n",
    "    matically detects and converts each column whose datatype\n",
    "    is 'object' to a datetime just when ALL of the column's\n",
    "    non-NaN values can be successfully parsed by\n",
    "    pd.to_datetime(), and returns the resulting dataframe.\n",
    "    \"\"\"\n",
    "    return dt_inplace(pd.read_csv(*args, **kwargs))\n"
   ]
  },
  {
   "cell_type": "code",
   "execution_count": 27,
   "metadata": {},
   "outputs": [
    {
     "name": "stdout",
     "output_type": "stream",
     "text": [
      "<class 'pandas.core.frame.DataFrame'>\n",
      "RangeIndex: 135144 entries, 0 to 135143\n",
      "Data columns (total 48 columns):\n",
      " #   Column                                                         Non-Null Count   Dtype         \n",
      "---  ------                                                         --------------   -----         \n",
      " 0   contract_transaction_unique_key                                135144 non-null  object        \n",
      " 1   contract_award_unique_key                                      135144 non-null  object        \n",
      " 2   award_id_piid                                                  135144 non-null  object        \n",
      " 3   modification_number                                            135144 non-null  object        \n",
      " 4   transaction_number                                             128824 non-null  float64       \n",
      " 5   parent_award_agency_id                                         101838 non-null  object        \n",
      " 6   parent_award_agency_name                                       101838 non-null  object        \n",
      " 7   parent_award_id_piid                                           101838 non-null  object        \n",
      " 8   parent_award_modification_number                               101838 non-null  object        \n",
      " 9   federal_action_obligation                                      135144 non-null  float64       \n",
      " 10  total_dollars_obligated                                        135144 non-null  float64       \n",
      " 11  total_outlayed_amount_for_overall_award                        21170 non-null   float64       \n",
      " 12  base_and_exercised_options_value                               128824 non-null  float64       \n",
      " 13  current_total_value_of_award                                   128824 non-null  float64       \n",
      " 14  base_and_all_options_value                                     135144 non-null  float64       \n",
      " 15  potential_total_value_of_award                                 135144 non-null  float64       \n",
      " 16  disaster_emergency_fund_codes_for_overall_award                87084 non-null   object        \n",
      " 17  outlayed_amount_from_COVID19_supplementals_for_overall_award   447 non-null     float64       \n",
      " 18  obligated_amount_from_COVID19_supplementals_for_overall_award  764 non-null     float64       \n",
      " 19  outlayed_amount_from_IIJA_supplemental_for_overall_award       10 non-null      float64       \n",
      " 20  obligated_amount_from_IIJA_supplemental_for_overall_award      12 non-null      float64       \n",
      " 21  action_date                                                    135144 non-null  datetime64[ns]\n",
      " 22  action_date_fiscal_year                                        135144 non-null  int64         \n",
      " 23  period_of_performance_start_date                               135144 non-null  datetime64[ns]\n",
      " 24  period_of_performance_current_end_date                         128824 non-null  datetime64[ns]\n",
      " 25  period_of_performance_potential_end_date                       128824 non-null  object        \n",
      " 26  ordering_period_end_date                                       6320 non-null    datetime64[ns]\n",
      " 27  solicitation_date                                              84765 non-null   datetime64[ns]\n",
      " 28  awarding_agency_code                                           135144 non-null  int64         \n",
      " 29  awarding_agency_name                                           135144 non-null  object        \n",
      " 30  awarding_sub_agency_code                                       135144 non-null  object        \n",
      " 31  awarding_sub_agency_name                                       135144 non-null  object        \n",
      " 32  awarding_office_code                                           135144 non-null  object        \n",
      " 33  awarding_office_name                                           135144 non-null  object        \n",
      " 34  funding_agency_code                                            135144 non-null  int64         \n",
      " 35  funding_agency_name                                            135144 non-null  object        \n",
      " 36  funding_sub_agency_code                                        135144 non-null  object        \n",
      " 37  funding_sub_agency_name                                        135144 non-null  object        \n",
      " 38  funding_office_code                                            135144 non-null  object        \n",
      " 39  funding_office_name                                            135073 non-null  object        \n",
      " 40  treasury_accounts_funding_this_award                           87938 non-null   object        \n",
      " 41  federal_accounts_funding_this_award                            87938 non-null   object        \n",
      " 42  object_classes_funding_this_award                              87936 non-null   object        \n",
      " 43  program_activities_funding_this_award                          86995 non-null   object        \n",
      " 44  foreign_funding                                                135144 non-null  object        \n",
      " 45  foreign_funding_description                                    135144 non-null  object        \n",
      " 46  sam_exception                                                  1483 non-null    float64       \n",
      " 47  sam_exception_description                                      1483 non-null    object        \n",
      "dtypes: datetime64[ns](5), float64(13), int64(3), object(27)\n",
      "memory usage: 49.5+ MB\n"
     ]
    }
   ],
   "source": [
    "#Before inserting into database, need to verify datatypes. We will create a new csv not rewrite, in order to keep the original.\n",
    "#note that dt_auto.py located in base directory. That enables the read_csv function without needed pd\n",
    "from dt_auto import read_csv\n",
    "df=read_csv('awarding_data.csv')\n",
    "df.info()"
   ]
  },
  {
   "cell_type": "code",
   "execution_count": 38,
   "metadata": {},
   "outputs": [
    {
     "ename": "SyntaxError",
     "evalue": "EOL while scanning string literal (<ipython-input-38-d945d4f31574>, line 22)",
     "output_type": "error",
     "traceback": [
      "\u001b[1;36m  File \u001b[1;32m\"<ipython-input-38-d945d4f31574>\"\u001b[1;36m, line \u001b[1;32m22\u001b[0m\n\u001b[1;33m    values = ', '.join([f\"'{str(value).replace(\"'\", \"''\") if pd.notna(value) and not isinstance(value, int) else str(value)}'\" for value in row])\u001b[0m\n\u001b[1;37m                                                                                                                                                 ^\u001b[0m\n\u001b[1;31mSyntaxError\u001b[0m\u001b[1;31m:\u001b[0m EOL while scanning string literal\n"
     ]
    }
   ],
   "source": [
    "# Fix SyntaxError by removing line breaks in the values\n",
    "df = df.replace({\"\\n\": \" \"}, regex=True)\n",
    "\n",
    "# Get column names and data types from DataFrame\n",
    "column_names = df.columns.tolist()\n",
    "dtypes = [str(df[col].dtype) for col in column_names]\n",
    "\n",
    "# Generate CREATE TABLE query\n",
    "create_query = \"CREATE TABLE new_table (\\n\"\n",
    "for name, dtype in zip(column_names, dtypes):\n",
    "    if dtype == 'int64':  # Check if data type is integer\n",
    "        dtype = \"numeric\"  # Adjusted data type for PostgreSQL\n",
    "    else:\n",
    "        dtype = \"character varying(255) COLLATE pg_catalog.\\\"default\\\"\"  # Adjusted data type for PostgreSQL\n",
    "    create_query += f\"    {name} {dtype},\\n\"\n",
    "create_query = create_query.rstrip(',\\n')  # Remove the last comma and newline\n",
    "create_query += \"\\n);\"\n",
    "\n",
    "# Generate INSERT INTO query\n",
    "insert_query = f\"INSERT INTO new_table ({', '.join(column_names)})\\nVALUES \"\n",
    "for row in df.itertuples(index=False):\n",
    "    values = ', '.join([f\"'{str(value).replace(\"'\", \"''\") if pd.notna(value) and not isinstance(value, int) else str(value)}'\" for value in row])\n",
    "    insert_query += f\"\\n    ({values}),\"\n",
    "insert_query = insert_query.rstrip(',')  # Remove the last comma\n",
    "insert_query += \";\"\n",
    "\n",
    "# Write CREATE TABLE query to a file\n",
    "with open('create_query.sql', 'w') as create_file:\n",
    "    create_file.write(create_query)\n",
    "\n",
    "# Write INSERT INTO query to a file\n",
    "with open('insert_query.sql', 'w') as insert_file:\n",
    "    insert_file.write(insert_query)"
   ]
  },
  {
   "cell_type": "code",
   "execution_count": 39,
   "metadata": {},
   "outputs": [
    {
     "data": {
      "text/plain": [
       "'for column in df.columns:\\n    # Filter values exceeding the varchar(255) limit\\n    exceeding_values = df[df[column].astype(str).str.len() > 255][column]\\n\\n    # Print the exceeding values\\n    if not exceeding_values.empty:\\n        print(f\"Exceeding values in column \\'{column}\\':\")\\n        for value in exceeding_values:\\n            print(value)\\n        print()'"
      ]
     },
     "execution_count": 39,
     "metadata": {},
     "output_type": "execute_result"
    }
   ],
   "source": [
    "#created awarding_data table in db\n",
    "#column header for \"Covid-19\", State Department issues were fixed during processing\n",
    "#TODO: Update this to work with a config file\n",
    "\n",
    "#the respective create and insert queries are loaded into the following script in place of sql\n",
    "\n",
    "#note: the create table query worked. The insert query had still had issues with the following:\n",
    "#leading zeros in decimal integer literals\n",
    "#error with single quote: NAT'L ENVIR.SATELLITE DATA&INFO, DEFC of '9', 'USS O'KANE  DDG'\n",
    "#include datatime types in create_query.sql\n",
    "#fix for Nat dtype\n",
    "#ERROR:  value too long for type character varying(255\n",
    "\n",
    "\n",
    "#fields containing values with characters longer than 255\n",
    "# Iterate over each column in the DataFrame\n",
    "#Use below to check which problem columns\n",
    "'''for column in df.columns:\n",
    "    # Filter values exceeding the varchar(255) limit\n",
    "    exceeding_values = df[df[column].astype(str).str.len() > 255][column]\n",
    "\n",
    "    # Print the exceeding values\n",
    "    if not exceeding_values.empty:\n",
    "        print(f\"Exceeding values in column '{column}':\")\n",
    "        for value in exceeding_values:\n",
    "            print(value)\n",
    "        print()'''\n",
    "\n",
    "#'object_classes_funding_this_award'\n",
    "#'program_activities_funding_this_award'\n",
    "#'treasury_accounts_funding_this_award'\n",
    "\n",
    "\n",
    "\n",
    "\n",
    "\n"
   ]
  },
  {
   "cell_type": "code",
   "execution_count": 15,
   "metadata": {
    "scrolled": false
   },
   "outputs": [],
   "source": []
  },
  {
   "cell_type": "code",
   "execution_count": null,
   "metadata": {},
   "outputs": [],
   "source": []
  }
 ],
 "metadata": {
  "kernelspec": {
   "display_name": "Python 3",
   "language": "python",
   "name": "python3"
  },
  "language_info": {
   "codemirror_mode": {
    "name": "ipython",
    "version": 3
   },
   "file_extension": ".py",
   "mimetype": "text/x-python",
   "name": "python",
   "nbconvert_exporter": "python",
   "pygments_lexer": "ipython3",
   "version": "3.8.3"
  }
 },
 "nbformat": 4,
 "nbformat_minor": 4
}
